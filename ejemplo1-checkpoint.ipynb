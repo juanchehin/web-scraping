{
 "cells": [
  {
   "cell_type": "code",
   "execution_count": 1,
   "id": "d8fefdad",
   "metadata": {},
   "outputs": [],
   "source": [
    "from selenium import webdriver"
   ]
  },
  {
   "cell_type": "code",
   "execution_count": 2,
   "id": "f968be02",
   "metadata": {},
   "outputs": [],
   "source": [
    "from selenium.webdriver.chrome.service import Service"
   ]
  },
  {
   "cell_type": "code",
   "execution_count": 3,
   "id": "fe0b3997",
   "metadata": {},
   "outputs": [],
   "source": [
    "from webdriver_manager.chrome import ChromeDriverManager"
   ]
  },
  {
   "cell_type": "code",
   "execution_count": 4,
   "id": "6ebcaed6",
   "metadata": {},
   "outputs": [],
   "source": [
    "from selenium.webdriver.common.by import By"
   ]
  },
  {
   "cell_type": "code",
   "execution_count": 5,
   "id": "822f5302",
   "metadata": {},
   "outputs": [],
   "source": [
    "url1 = 'https://listado.mercadolibre.com.co/televisor-plasma#D[A:televisor%20plasma]'"
   ]
  },
  {
   "cell_type": "code",
   "execution_count": 6,
   "id": "b01bc90b",
   "metadata": {},
   "outputs": [
    {
     "name": "stderr",
     "output_type": "stream",
     "text": [
      "\n",
      "\n",
      "====== WebDriver manager ======\n",
      "Current google-chrome version is 98.0.4758\n",
      "Get LATEST chromedriver version for 98.0.4758 google-chrome\n",
      "Driver [C:\\Users\\ciidept\\.wdm\\drivers\\chromedriver\\win32\\98.0.4758.48\\chromedriver.exe] found in cache\n"
     ]
    }
   ],
   "source": [
    "driver = webdriver.Chrome(service=Service(ChromeDriverManager().install()))"
   ]
  },
  {
   "cell_type": "code",
   "execution_count": 7,
   "id": "625521de",
   "metadata": {},
   "outputs": [],
   "source": [
    "driver.get(url1)"
   ]
  },
  {
   "cell_type": "code",
   "execution_count": 8,
   "id": "e3f47d4b",
   "metadata": {},
   "outputs": [],
   "source": [
    "price = driver.find_elements(By.XPATH,'//li[@class=\"ui-search-layout__item\"]/div/div/div[2]/div[2]/div/div/div/div/span/span/span[2]')"
   ]
  },
  {
   "cell_type": "code",
   "execution_count": 9,
   "id": "ea1a3175",
   "metadata": {},
   "outputs": [
    {
     "data": {
      "text/plain": [
       "0"
      ]
     },
     "execution_count": 9,
     "metadata": {},
     "output_type": "execute_result"
    }
   ],
   "source": [
    "len(price)"
   ]
  },
  {
   "cell_type": "code",
   "execution_count": 10,
   "id": "02afb88d",
   "metadata": {},
   "outputs": [],
   "source": [
    "for i in price:\n",
    "    print(i.text)"
   ]
  },
  {
   "cell_type": "code",
   "execution_count": 11,
   "id": "1be692ea",
   "metadata": {},
   "outputs": [
    {
     "name": "stderr",
     "output_type": "stream",
     "text": [
      "C:\\Users\\ciidept\\AppData\\Local\\Temp\\ipykernel_5536\\1852140808.py:1: DeprecationWarning: find_elements_by_* commands are deprecated. Please use find_elements() instead\n",
      "  nombres = driver.find_elements_by_class_name('ui-search-item__title')\n"
     ]
    }
   ],
   "source": [
    "nombres = driver.find_elements_by_class_name('ui-search-item__title')"
   ]
  },
  {
   "cell_type": "code",
   "execution_count": 12,
   "id": "a834d1c1",
   "metadata": {},
   "outputs": [],
   "source": [
    "names = driver.find_elements(By.CLASS_NAME,'ui-search-item__title')"
   ]
  },
  {
   "cell_type": "code",
   "execution_count": 13,
   "id": "ffa835d4",
   "metadata": {},
   "outputs": [
    {
     "name": "stdout",
     "output_type": "stream",
     "text": [
      "Cable De Alimentacion Compatible Samsung LG Plasma Tv 3 Cla\n",
      "Tenor Ukulele Bundle, Deluxe Series De\n",
      "Protector Electrónico Contra Sobretensiones Para Lavadoras D\n",
      "Dymo Organizer Xpress Grabadora De Etiquetas De Grabacion En\n",
      "Lenovo Thinkpad Mini Dock Series 3 433710u\n",
      "Traje De Neopreno Juvenil Desnudo De 76 Mm\n",
      "Norazza 6 Oz Lcd Plasma Pantalla Gel De Limpieza\n",
      "Tv De 32 Pulgadas Hd Smart Tv Exclusiv\n",
      "Tv De 24 Pulgadas Caixun Hd Hdmi, Vga, Usb\n",
      "Televisor Hd De 32 Pulgadas Exclusiv Hdmi/vga/usb\n",
      "Tv De 40 Pulgadas Smart Tv Full Hd Exclusiv\n",
      "Televisor De 50 Pulgadas Ultra Hd 4k Smart\n",
      "Televisor De 40 Pulgadas Smart Tv Full Hd Exclusiv\n",
      "Televisor De 32 Pulgadas Smart Tv Hd Exclusiv\n",
      "Tv De 58 Pulgadas Smart Ultra Hd 4k\n",
      "Tv Plasma Hdtv Tc-p42xt50h\n",
      "Televisor De 58 Pulgadas Ultra Hd 4k Smart\n",
      "Reparación De Televisores Y Monitores Led-lcd-plasma\n",
      "Cable De Alimentacion Compatible Samsung LG Plasma Tv 3 Cla\n",
      "Repuestos Para Televisores Led, Lcd, Plasma, Oled Y Qled .\n",
      "Repuestos Para Tv's Led, Lcd Y Plasma .\n",
      "Repuestos Para Tv's Led, Lcd Y Plasma.\n",
      "Repuestos Para Televisores Led,lcd Y Plasma\n",
      "Repuestos Para Tv's Led, Lcd Y Plama.\n",
      "Repuestos Para Tvs Led, Lcd Y Plasma.\n",
      "Repuestos, Para Tvs Lled Lcd Y Plasma\n",
      "Repuestos Para Tv's Led, Lcd Y Plasma.\n",
      "Repuestos Psara Tv's Led, Lcd, Plasma, Oled Y Qled.\n",
      "Repuestos Para Tv's Aled, Lcd Y Plasma.\n",
      "Repuestos Para Televisores Led, Lcd, Plasma, Oled Y Qled\n",
      "Repuestos Para Televisores Led, Lcd, Plasma, Oled Y Qled.\n",
      "Reparacion, Y Repuestos Para Led, Lcd Y Plasma.\n",
      "Repuestos Para Tv's Led, Lcd Y Plasma.\n",
      "Repuestos Para Tv's Led, Lcd Y Plasma\n",
      "Repuestos Para Tv's Led, Lcd Y Plasma\n",
      "Repuestos Para Tv's Led, Lcd Y Plasma.\n",
      "Repuestos Para Tv's Led, Lcd Y Plasma\n",
      "Repuestos Para Tv's Led, Lcd Y Plasma.\n",
      "Repuestos Para Tv's Led Lcd Y Plasma\n",
      "Servicio Tecnico Y Ventas De Tarjetas Lcd,led Y Plasma\n",
      "On Solucion Inteligente 6 Salidas Totales Protector Contra S\n",
      "Boye Ganchillo Aluminio 6 Pulgadas H85 Mm\n",
      "Estuche Rigido Impermeable Nanuk 910 Con Insercion De Espuma\n",
      "Estuche Rigido Impermeable Nanuk 910 Con Insercion De Espuma\n",
      "Estuche Rigido Impermeable Nanuk 910 Con Inserto De Espuma\n",
      "Estuche Rigido Impermeable Nanuk 935 Con Ruedas Vacias Negra\n",
      "Olympus 202584 Estuche Rigido De Neopreno Para Camara (negro\n",
      "Samsung Electronics Ejft830ubeguj Galaxy Tab S4 Cubierta De\n",
      "Ceari Camara Desmontable Funda De Piel Funda Protectora Para\n",
      "Mesa De Dibujo\n"
     ]
    }
   ],
   "source": [
    "for i in names:\n",
    "    print(i.text)"
   ]
  },
  {
   "cell_type": "code",
   "execution_count": null,
   "id": "dd14ba81",
   "metadata": {},
   "outputs": [],
   "source": []
  }
 ],
 "metadata": {
  "kernelspec": {
   "display_name": "Python 3 (ipykernel)",
   "language": "python",
   "name": "python3"
  },
  "language_info": {
   "codemirror_mode": {
    "name": "ipython",
    "version": 3
   },
   "file_extension": ".py",
   "mimetype": "text/x-python",
   "name": "python",
   "nbconvert_exporter": "python",
   "pygments_lexer": "ipython3",
   "version": "3.10.2"
  }
 },
 "nbformat": 4,
 "nbformat_minor": 5
}
